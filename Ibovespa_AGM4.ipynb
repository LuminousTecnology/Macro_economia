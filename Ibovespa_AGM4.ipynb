{
  "nbformat": 4,
  "nbformat_minor": 0,
  "metadata": {
    "colab": {
      "name": "Ibovespa/AGM4.ipynb",
      "provenance": [],
      "authorship_tag": "ABX9TyNa6CMIsIZDiixex0NJa9Sn",
      "include_colab_link": true
    },
    "kernelspec": {
      "name": "python3",
      "display_name": "Python 3"
    },
    "language_info": {
      "name": "python"
    }
  },
  "cells": [
    {
      "cell_type": "markdown",
      "metadata": {
        "id": "view-in-github",
        "colab_type": "text"
      },
      "source": [
        "<a href=\"https://colab.research.google.com/github/TitanTensei/Macro_economia/blob/main/Ibovespa_AGM4.ipynb\" target=\"_parent\"><img src=\"https://colab.research.google.com/assets/colab-badge.svg\" alt=\"Open In Colab\"/></a>"
      ]
    },
    {
      "cell_type": "markdown",
      "metadata": {
        "id": "dSsexV5R6N6o"
      },
      "source": [
        "# Importar pacotes"
      ]
    },
    {
      "cell_type": "code",
      "metadata": {
        "id": "aqgukASK0mVy"
      },
      "source": [
        "!pip install pyIpeaData\n",
        "import pyIpeaData as ipea"
      ],
      "execution_count": null,
      "outputs": []
    },
    {
      "cell_type": "code",
      "metadata": {
        "id": "KKTz5kKf6qWi"
      },
      "source": [
        "import pandas as pd\n",
        "from google.colab.data_table import DataTable\n",
        "from datetime import datetime"
      ],
      "execution_count": 25,
      "outputs": []
    },
    {
      "cell_type": "markdown",
      "metadata": {
        "id": "GVGicJpAGPf2"
      },
      "source": [
        "# bsm_M4"
      ]
    },
    {
      "cell_type": "code",
      "metadata": {
        "id": "AFNWbQlp8pqD"
      },
      "source": [
        "# como consultar todos os dado dentro do IPEA\n",
        "# ipea.get_metadados()"
      ],
      "execution_count": null,
      "outputs": []
    },
    {
      "cell_type": "code",
      "metadata": {
        "id": "gE3kj4I16W7D"
      },
      "source": [
        "# BM12_M4NCN12 = base monetaria M4\n",
        "base_monet_m4 = ipea.get_serie('BM12_M4NCN12')\n",
        "# ------------------------------------------------------------------------------\n",
        "# separa as colunas que iremos trabalhar\n",
        "base_monet_m4 = base_monet_m4[['VALDATA' , 'VALVALOR']]\n",
        "# ------------------------------------------------------------------------------\n",
        "# converte em data a coluna VALDATA\n",
        "base_monet_m4 = base_monet_m4\n",
        "\n",
        "base_monet_m4['VALDATA'] = base_monet_m4['VALDATA'].str.replace('-01T00:00:00-03:00', '')\n",
        "base_monet_m4['VALDATA'] = base_monet_m4['VALDATA'].str.replace('-01T00:00:00-02:00', '')\n",
        "base_monet_m4['VALDATA'] = pd.to_datetime(base_monet_m4['VALDATA'])\n",
        "base_monet_m4['VALDATA'] = base_monet_m4['VALDATA'].dt.date\n",
        "# ------------------------------------------------------------------------------\n",
        "# arredonda a coluna VALVALOR\n",
        "base_monet_m4['VALVALOR'] = base_monet_m4['VALVALOR'].round(2)\n",
        "# ------------------------------------------------------------------------------\n",
        "# renomeamos as colunas\n",
        "base_monet_m4 = base_monet_m4.rename({'VALDATA': 'data', 'VALVALOR': 'agr_m4'}, axis=1)\n",
        "# ------------------------------------------------------------------------------\n",
        "# ------------------------------------------------------------------------------\n",
        "# data para buscar\n",
        "data_inicial = pd.to_datetime('2000-01-01').date()\n",
        "# ------------------------------------------------------------------------------\n",
        "# ------------------------------------------------------------------------------\n",
        "# criamos as data para busca dentro do df\n",
        "base_monet_m4 = base_monet_m4[(base_monet_m4.data >= data_inicial)]"
      ],
      "execution_count": 90,
      "outputs": []
    },
    {
      "cell_type": "code",
      "metadata": {
        "id": "TavMTeTT7MKs"
      },
      "source": [
        "DataTable(base_monet_m4)"
      ],
      "execution_count": null,
      "outputs": []
    },
    {
      "cell_type": "markdown",
      "metadata": {
        "id": "yT-cAXd3GW6e"
      },
      "source": [
        "# Ibovespa"
      ]
    },
    {
      "cell_type": "code",
      "metadata": {
        "id": "2dnEkS_WGalw"
      },
      "source": [
        ""
      ],
      "execution_count": null,
      "outputs": []
    }
  ]
}